{
 "cells": [
  {
   "cell_type": "code",
   "execution_count": null,
   "metadata": {
    "id": "fIMjGKJmk6Ar"
   },
   "outputs": [],
   "source": [
    "import pandas as pd\n",
    "import numpy as np\n",
    "from sklearn.feature_extraction.text import CountVectorizer\n",
    "from sklearn.feature_extraction.text import TfidfVectorizer\n",
    "from sklearn.cluster import KMeans\n",
    "from collections import Counter\n",
    "import re"
   ]
  },
  {
   "cell_type": "markdown",
   "metadata": {},
   "source": [
    "**Read the input data file 'foods.txt' and Extracting review/text part of input file**"
   ]
  },
  {
   "cell_type": "code",
   "execution_count": null,
   "metadata": {
    "id": "D1PuRMhzk6Au"
   },
   "outputs": [],
   "source": [
    "input_file = open(\"foods.txt\",encoding='latin-1')\n",
    "reviews = []\n",
    "for i in input_file:\n",
    "    temp = i.split(\":\")\t\n",
    "    if temp[0] == \"review/text\":\n",
    "        reviews.append(temp[1])\n",
    "input_file.close()"
   ]
  },
  {
   "cell_type": "code",
   "execution_count": null,
   "metadata": {
    "colab": {
     "base_uri": "https://localhost:8080/"
    },
    "id": "h41lI2hmoXgt",
    "outputId": "44557169-221c-41ee-c239-5496b06ee0ad"
   },
   "outputs": [],
   "source": [
    "len(reviews)"
   ]
  },
  {
   "cell_type": "markdown",
   "metadata": {},
   "source": [
    "**Perform preprocessing steps on extracted_reviews**"
   ]
  },
  {
   "cell_type": "code",
   "execution_count": null,
   "metadata": {
    "id": "xZ3qkOA-k6Av"
   },
   "outputs": [],
   "source": [
    "for i in range(len(reviews)):\n",
    "    reviews[i] = re.sub('<br />', ' ', reviews[i])\n",
    "    reviews[i] = re.sub(r'\\d', ' ', reviews[i])\n",
    "    reviews[i] = re.sub('<br />', ' ', reviews[i])\n",
    "    reviews[i] = re.sub(r'\\d', ' ', reviews[i])\n",
    "    punctuations = re.compile('[^a-zA-Z]+')\n",
    "    reviews[i] = punctuations.sub(' ', reviews[i])"
   ]
  },
  {
   "cell_type": "markdown",
   "metadata": {},
   "source": [
    "**Extract unique words from extracted_reviews and store them L**"
   ]
  },
  {
   "cell_type": "code",
   "execution_count": null,
   "metadata": {},
   "outputs": [],
   "source": [
    "vect = CountVectorizer()\n",
    "matrix = vect.fit_transform(reviews)\n",
    "vocab = list(vect.get_feature_names())\n",
    "L = []\n",
    "for i in vocab:\n",
    "    L.append(str(i))"
   ]
  },
  {
   "cell_type": "markdown",
   "metadata": {},
   "source": [
    "**read the input data file 'Long Stopword List.txt'**"
   ]
  },
  {
   "cell_type": "code",
   "execution_count": null,
   "metadata": {
    "id": "47NLJC07k6Ax"
   },
   "outputs": [],
   "source": [
    "#Storing the Stop Words in the list\n",
    "my_file = open(\"stop_words.txt\", \"r\")\n",
    "data = my_file.read()\n",
    "stop_words_1 = data.split(\"\\n\")\n",
    "my_file.close()\n"
   ]
  },
  {
   "cell_type": "markdown",
   "metadata": {},
   "source": [
    "**Remove stopwords from L and store the result in W**"
   ]
  },
  {
   "cell_type": "code",
   "execution_count": null,
   "metadata": {
    "id": "Jk0kfn-Kk6Az"
   },
   "outputs": [],
   "source": [
    "vect = CountVectorizer(stop_words = stop_words_1)\n",
    "matrix = vect.fit_transform(reviews)\n",
    "vocab = list(vect.get_feature_names())\n",
    "W = []\n",
    "for i in vocab:\n",
    "    W.append(str(i))\n",
    "\n",
    "# Count word frequency and extract 500 most frequent words\n",
    "Listoftop_500 = []\n",
    "counts = matrix.sum(axis = 0).A1\n",
    "freq_dist = Counter(dict(zip(vocab, counts)))\n",
    "top_500 = freq_dist.most_common(500)\n",
    "        "
   ]
  },
  {
   "cell_type": "code",
   "execution_count": null,
   "metadata": {
    "id": "N-3I9hWfSLZv"
   },
   "outputs": [],
   "source": [
    "input_file = open(\"top_500_4432.txt\", \"w\")\n",
    "for i in top_500:\n",
    "    temp = i\n",
    "    Listoftop_500.append(str(list(temp)[0]))\n",
    "    input_file.write(str(i))\n",
    "    input_file.write(\"\\n\")\n",
    "input_file.close()"
   ]
  },
  {
   "cell_type": "code",
   "execution_count": null,
   "metadata": {
    "id": "V7BmBXa0k6A2"
   },
   "outputs": [],
   "source": [
    "tfidf1 = TfidfVectorizer(vocabulary = Listoftop_500)\n",
    "transform = tfidf1.fit_transform(reviews)"
   ]
  },
  {
   "cell_type": "code",
   "execution_count": null,
   "metadata": {
    "id": "AmP9RuQtk6A3"
   },
   "outputs": [],
   "source": [
    "kmeans = KMeans(n_clusters = 10, max_iter = 10).fit(transform)"
   ]
  },
  {
   "cell_type": "code",
   "execution_count": null,
   "metadata": {
    "id": "73QJNfhpk6A4",
    "scrolled": false
   },
   "outputs": [],
   "source": [
    "input_file = open(\"Centroid_Words_553.txt\", \"w\")\n",
    "cluster_centroid = kmeans.cluster_centers_.argsort()[:, ::-1]\n",
    "terms = Listoftop_500\n",
    "for i in range(10):\n",
    "\tfor j in cluster_centroid[i, :5]:\n",
    "\t\tinput_file.write(\"Cluster\"+str(i)+terms[j])\n",
    "\t\tinput_file.write(\" \")\n",
    "\tinput_file.write(\"\\n\")\n",
    "input_file.close()"
   ]
  },
  {
   "cell_type": "code",
   "execution_count": null,
   "metadata": {},
   "outputs": [],
   "source": []
  }
 ],
 "metadata": {
  "colab": {
   "provenance": []
  },
  "kernelspec": {
   "display_name": "Python 3",
   "language": "python",
   "name": "python3"
  },
  "language_info": {
   "codemirror_mode": {
    "name": "ipython",
    "version": 3
   },
   "file_extension": ".py",
   "mimetype": "text/x-python",
   "name": "python",
   "nbconvert_exporter": "python",
   "pygments_lexer": "ipython3",
   "version": "3.7.6"
  }
 },
 "nbformat": 4,
 "nbformat_minor": 1
}
